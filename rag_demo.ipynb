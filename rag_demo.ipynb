{
 "cells": [
  {
   "cell_type": "code",
   "execution_count": 43,
   "metadata": {},
   "outputs": [],
   "source": [
    "from langchain_community.document_loaders import UnstructuredURLLoader"
   ]
  },
  {
   "cell_type": "code",
   "execution_count": 62,
   "metadata": {},
   "outputs": [],
   "source": [
    "urls = ['https://www.victoriaonmove.com.au/local-removalists.html','https://victoriaonmove.com.au/index.html']\n",
    "loader=UnstructuredURLLoader(urls=urls)\n",
    "data=loader.load()"
   ]
  },
  {
   "cell_type": "code",
   "execution_count": 63,
   "metadata": {},
   "outputs": [
    {
     "data": {
      "text/plain": [
       "[Document(metadata={'source': 'https://www.victoriaonmove.com.au/local-removalists.html'}, page_content='Loading...\\n\\nLOCAL REMOVALS\\n\\nYour trusted partner in seamless moving and packing solutions!\\n\\nGoogle logo G\\n\\nGoogle Rating\\n\\nGold star icon\\n\\nGold star icon\\n\\nGold star icon\\n\\nGold star icon\\n\\nGold star icon\\n\\n5 stars, 111 reviews\\n\\n\\n\\nRequst A call for You:\\n\\nLocal removal services via \"Victoria on move\"\\n\\nVictoria on Move is your trusted local moving company in Melbourne, specializing in seamless relocation services. As experienced furniture movers and relocation experts, we provide top-notch packing and moving services tailored to your needs. Whether you\\'re moving across town or relocating interstate, our professional movers ensure a stress-free experience. Count on Victoria on Move for reliable removal services, making us the preferred choice among local movers in Melbourne. Discover why we\\'re recognized for our commitment to quality and customer satisfaction.\\n\\nIcon\\n\\nApartment Moving\\n\\nEfficient and careful relocation services tailored for apartments of all sizes, ensuring smooth transitions to your new home.\\n\\nIcon\\n\\nVilla Moving\\n\\nComprehensive moving solutions for large residences and villas, handling valuable possessions with utmost care and precision.\\n\\nIcon\\n\\nHousehold Moving\\n\\nFull-service moving options for households, including packing, loading, transportation, and unpacking services to simplify your move.\\n\\nIcon\\n\\nOffice Moving\\n\\nSpecialized expertise in office relocations, minimizing downtime and ensuring your business operations continue seamlessly.\\n\\nIcon\\n\\nFurniture Moving\\n\\nExperienced in handling furniture of all sizes and types, ensuring safe transport and setup in your new location.\\n\\nIcon\\n\\nPacking and Unpacking Services\\n\\nOptional packing and unpacking services available to save you time and effort, using high-quality packing materials.\\n\\nIcon\\n\\nCustomized Moving Plans\\n\\nTailored moving plans to fit your specific requirements and schedule, providing personalized service and peace of mind.\\n\\nIcon\\n\\nProfessional Team\\n\\nExperienced and courteous moving professionals dedicated to delivering exceptional service and customer satisfaction throughout the entire moving process.\\n\\nFind removalists travelling to or from Melbourne\\n\\nFrom Melbourne\\n\\nTo Melbourne\\n\\nMoving from Ballarat to MelbourneMoving from Bendigo to MelbourneMoving from Geelong to MelbourneMoving from Melton to MelbourneMoving from Mildura to MelbourneMoving from Mooroopna to MelbourneMoving from Shepparton to MelbourneMoving from Sunbury to MelbourneMoving from Traralgon to MelbourneMoving from Warrnambool to MelbourneMoving from Wodonga to Melbourne\\n\\nMoving from Melbourne to BallaratMoving from Melbourne to BendigoMoving from Melbourne to GeelongMoving from Melbourne to MeltonMoving from Melbourne to MilduraMoving from Melbourne to MooroopnaMoving from Melbourne to SheppartonMoving from Melbourne to SunburyMoving from Melbourne to TraralgonMoving from Melbourne to WarrnamboolMoving from Melbourne to Wodonga\\n\\nLooking for interstate removalists Melbourne? We can also assist with interstate moves to or from Melbourne.\\n\\nGet In Touch\\n\\nWollert Victoria\\n\\n0404922328\\n\\nvictoriaonmove07@gmail.com\\n\\nQuick Links\\n\\nAbout Us Contact Us Our Services Terms & Condition\\n\\nPhoto Gallery\\n\\n\\n\\n\\n\\n\\n\\n\\n\\n\\n\\n\\n\\nCheck us out on Google!\\n\\nreviews\\n\\n© Victoria On Move 2024, All Right Reserved. Designed By HTML Codex\\n\\nHome'),\n",
       " Document(metadata={'source': 'https://victoriaonmove.com.au/index.html'}, page_content=\"Loading...\\n\\nRelocate with confidence\\n\\nYour trusted partner in seamless moving and packing solutions!\\n\\nGoogle logo G\\n\\nGoogle Rating\\n\\nGold star icon\\n\\nGold star icon\\n\\nGold star icon\\n\\nGold star icon\\n\\nGold star icon\\n\\n5 stars, 111 reviews\\n\\n\\n\\n\\n\\n\\n\\n\\n\\nRequst A call for You:\\n\\nExplore Our Fleet\\n\\nVehicles Tailored for Your Moving Needs\\n\\nIcon\\n\\nSmall Truck\\n\\nWith 2 Mover\\n\\nFrom $130/hr\\n\\n4.5 ton 20 cubic Our Small Truck can manage a student apartment, small office .\\n\\nIcon\\n\\nMedium Truck\\n\\nWith 2 Mover\\n\\nFrom $145 p/hr\\n\\n6 ton 30-35 cubic\\n\\nOur Medium trucks can manage 2-3 bedroom with single lounge outdoor boxes and miscellaneous.\\n\\nIcon\\n\\nLarge Truck\\n\\nWith 2 Mover\\n\\nFrom $155 p/hr\\n\\n8 ton 40 cubic Our Large trucks can handle 3-4 bedrooms with double lounge outdoor boxes and miscellaneous.\\n\\nIcon\\n\\nX-Large Truck\\n\\nWith 2 Mover\\n\\nFrom $165 p/hr\\n\\n4.5 ton 20 cubic (10 ton or 50 cubic meter) Our X-Large trucks can handle 3-4 bedrooms double lounge outdoor miscellaneous items.\\n\\n\\n\\nOUR SERVICE\\n\\nWE OFFER QUICK & POWERFUL LOGISTICS SOLUTION\\n\\nFURNITURE REMOVALS:\\n\\nWe are the furniture removals specialists in Victoria. Our Teams are experienced and comes with Furniture moving equipments like- Trolleys. Blankets, Loading Ramps.\\n\\nINSURANCE:\\n\\nVictoria On Move Pvt Ltd. look after your goods arrive safely at your destination. We have Transit and Public liability insurance. Transit insurance covers loading and unloading from vehicle , and Road accident cover.\\n\\n1 BED HOME:\\n\\n1 Bed, Mattress, Tall Boy, Bedside, Refrigerator, Washing Machine, Some Boxes.\\n\\n2 BED HOME:\\n\\n2 Beds, Mattress, Tall Boy, Bedside, Refrigerator, Washing Machine,Dresser, Barbeque, Some Boxes, Loose stuff.\\n\\nBig HOME:\\n\\n4-5 Bed Room, Double Lounge, Mattress, Tall Boy, Bedside, Refrigerator, Washing Machine,Dresser, Barbeque, Some Boxes,Furniture, Loose stuff. Get a Quote\\n\\nInterstate Removalists:\\n\\nSeamless Relocation Across State Lines\\n\\n\\n\\nMelbourne to Sydney Removalists\\n\\nBook Now\\n\\n\\n\\nMelbourne to Brisbane Removalists\\n\\nBook Now\\n\\n\\n\\nMelbourne to Adelaide Removalists\\n\\nBook Now\\n\\n\\n\\nMelbourne to Canberra Removalists\\n\\nBook Now\\n\\n\\n\\nOUR MOVING WORK & ETHICS\\n\\nMoving house furniture is an art that comes with experience and a steadfast commitment to our customers' needs. It's a challenging industry, and not everyone survives for long without the expertise and dedication that we bring to every job. Our long history as Removalists in Melbourne is a testament to our sincerity and hard work.\\n\\nUnlike some other moving companies, we value the trust our customers place in us. Our customer reviews on Google are genuine, and we never manipulate them. We trust in our quality and experience and believe in our destiny to provide top-notch moving and packing services to our clients.\\n\\nContact Us\\n\\nOur Clients Say!\\n\\nDiscover firsthand experiences from our valued clients through their heartfelt testimonials. From seamless moves to exceptional service, our customers share how we've made their relocation journey stress-free and rewarding. Explore their stories and see why they trust us with their moves time and again.\\n\\n\\n\\n\\n\\n\\n\\n\\n\\n\\n\\n\\n\\n\\n\\n\\n\\n\\n\\n\\n\\nGet In Touch\\n\\nWollert Victoria\\n\\n0404922328\\n\\nvictoriaonmove07@gmail.com\\n\\nQuick Links\\n\\nAbout Us Contact Us Our Services Terms & Condition\\n\\nPhoto Gallery\\n\\n\\n\\n\\n\\n\\n\\n\\n\\n\\n\\n\\n\\nCheck us out on Google!\\n\\nreviews\\n\\n© Victoria On Move 2024, All Right Reserved. Designed By HTML Codex\\n\\nHome\")]"
      ]
     },
     "execution_count": 63,
     "metadata": {},
     "output_type": "execute_result"
    }
   ],
   "source": [
    "data"
   ]
  },
  {
   "cell_type": "code",
   "execution_count": 64,
   "metadata": {},
   "outputs": [
    {
     "name": "stdout",
     "output_type": "stream",
     "text": [
      "Total documents:  8\n"
     ]
    }
   ],
   "source": [
    "from langchain.text_splitter import RecursiveCharacterTextSplitter\n",
    "\n",
    "text_splitter=RecursiveCharacterTextSplitter(chunk_size=1000)\n",
    "docs=text_splitter.split_documents(data)\n",
    "\n",
    "print(\"Total documents: \",len(docs))"
   ]
  },
  {
   "cell_type": "code",
   "execution_count": 65,
   "metadata": {},
   "outputs": [
    {
     "data": {
      "text/plain": [
       "Document(metadata={'source': 'https://www.victoriaonmove.com.au/local-removalists.html'}, page_content='Loading...\\n\\nLOCAL REMOVALS\\n\\nYour trusted partner in seamless moving and packing solutions!\\n\\nGoogle logo G\\n\\nGoogle Rating\\n\\nGold star icon\\n\\nGold star icon\\n\\nGold star icon\\n\\nGold star icon\\n\\nGold star icon\\n\\n5 stars, 111 reviews\\n\\n\\n\\nRequst A call for You:\\n\\nLocal removal services via \"Victoria on move\"\\n\\nVictoria on Move is your trusted local moving company in Melbourne, specializing in seamless relocation services. As experienced furniture movers and relocation experts, we provide top-notch packing and moving services tailored to your needs. Whether you\\'re moving across town or relocating interstate, our professional movers ensure a stress-free experience. Count on Victoria on Move for reliable removal services, making us the preferred choice among local movers in Melbourne. Discover why we\\'re recognized for our commitment to quality and customer satisfaction.\\n\\nIcon\\n\\nApartment Moving')"
      ]
     },
     "execution_count": 65,
     "metadata": {},
     "output_type": "execute_result"
    }
   ],
   "source": [
    "docs[0]"
   ]
  },
  {
   "cell_type": "code",
   "execution_count": 66,
   "metadata": {},
   "outputs": [
    {
     "data": {
      "text/plain": [
       "Document(metadata={'source': 'https://victoriaonmove.com.au/index.html'}, page_content=\"Unlike some other moving companies, we value the trust our customers place in us. Our customer reviews on Google are genuine, and we never manipulate them. We trust in our quality and experience and believe in our destiny to provide top-notch moving and packing services to our clients.\\n\\nContact Us\\n\\nOur Clients Say!\\n\\nDiscover firsthand experiences from our valued clients through their heartfelt testimonials. From seamless moves to exceptional service, our customers share how we've made their relocation journey stress-free and rewarding. Explore their stories and see why they trust us with their moves time and again.\\n\\n\\n\\n\\n\\n\\n\\n\\n\\n\\n\\n\\n\\n\\n\\n\\n\\n\\n\\n\\n\\nGet In Touch\\n\\nWollert Victoria\\n\\n0404922328\\n\\nvictoriaonmove07@gmail.com\\n\\nQuick Links\\n\\nAbout Us Contact Us Our Services Terms & Condition\\n\\nPhoto Gallery\\n\\n\\n\\n\\n\\n\\n\\n\\n\\n\\n\\n\\n\\nCheck us out on Google!\\n\\nreviews\\n\\n© Victoria On Move 2024, All Right Reserved. Designed By HTML Codex\\n\\nHome\")"
      ]
     },
     "execution_count": 66,
     "metadata": {},
     "output_type": "execute_result"
    }
   ],
   "source": [
    "docs[7]"
   ]
  },
  {
   "cell_type": "code",
   "execution_count": 49,
   "metadata": {},
   "outputs": [],
   "source": [
    "from langchain_chroma import Chroma\n",
    "from langchain_mistralai import MistralAIEmbeddings\n",
    "from langchain_mistralai import ChatMistralAI"
   ]
  },
  {
   "cell_type": "code",
   "execution_count": 50,
   "metadata": {},
   "outputs": [
    {
     "data": {
      "text/plain": [
       "True"
      ]
     },
     "execution_count": 50,
     "metadata": {},
     "output_type": "execute_result"
    }
   ],
   "source": [
    "from dotenv import load_dotenv\n",
    "load_dotenv()"
   ]
  },
  {
   "cell_type": "code",
   "execution_count": 51,
   "metadata": {},
   "outputs": [],
   "source": [
    "import os\n",
    "os.environ[\"MISTRAL_API_KEY\"] = os.getenv(\"MISTRAL_API_KEY\")"
   ]
  },
  {
   "cell_type": "code",
   "execution_count": 73,
   "metadata": {},
   "outputs": [
    {
     "name": "stderr",
     "output_type": "stream",
     "text": [
      "/workspaces/codespaces-blank/venv/lib/python3.10/site-packages/langchain_mistralai/embeddings.py:181: UserWarning: Could not download mistral tokenizer from Huggingface for calculating batch sizes. Set a Huggingface token via the HF_TOKEN environment variable to download the real tokenizer. Falling back to a dummy tokenizer that uses `len()`.\n",
      "  warnings.warn(\n"
     ]
    }
   ],
   "source": [
    "vectorstore=Chroma.from_documents(documents=docs,embedding=MistralAIEmbeddings(),persist_directory='db')"
   ]
  },
  {
   "cell_type": "code",
   "execution_count": 68,
   "metadata": {},
   "outputs": [],
   "source": [
    "retriever=vectorstore.as_retriever(search_type=\"similarity\",\n",
    "                                   search_kwargs={\"k\":3})"
   ]
  },
  {
   "cell_type": "code",
   "execution_count": 70,
   "metadata": {},
   "outputs": [],
   "source": [
    "retrieved_docs=retriever.invoke(\"what kind of services to they provide?\")"
   ]
  },
  {
   "cell_type": "code",
   "execution_count": 71,
   "metadata": {},
   "outputs": [
    {
     "data": {
      "text/plain": [
       "[Document(id='48cfede9-b9fe-4911-b90c-c0df21b6b857', metadata={'source': 'https://www.victoriaonmove.com.au/local-removalists.html'}, page_content='Icon\\n\\nApartment Moving\\n\\nEfficient and careful relocation services tailored for apartments of all sizes, ensuring smooth transitions to your new home.\\n\\nIcon\\n\\nVilla Moving\\n\\nComprehensive moving solutions for large residences and villas, handling valuable possessions with utmost care and precision.\\n\\nIcon\\n\\nHousehold Moving\\n\\nFull-service moving options for households, including packing, loading, transportation, and unpacking services to simplify your move.\\n\\nIcon\\n\\nOffice Moving\\n\\nSpecialized expertise in office relocations, minimizing downtime and ensuring your business operations continue seamlessly.\\n\\nIcon\\n\\nFurniture Moving\\n\\nExperienced in handling furniture of all sizes and types, ensuring safe transport and setup in your new location.\\n\\nIcon\\n\\nPacking and Unpacking Services\\n\\nOptional packing and unpacking services available to save you time and effort, using high-quality packing materials.\\n\\nIcon\\n\\nCustomized Moving Plans'),\n",
       " Document(id='182e57ee-c216-4f71-bab3-2edb39c7cad4', metadata={'source': 'https://victoriaonmove.com.au/index.html'}, page_content='Loading...\\n\\nRelocate with confidence\\n\\nYour trusted partner in seamless moving and packing solutions!\\n\\nGoogle logo G\\n\\nGoogle Rating\\n\\nGold star icon\\n\\nGold star icon\\n\\nGold star icon\\n\\nGold star icon\\n\\nGold star icon\\n\\n5 stars, 111 reviews\\n\\n\\n\\n\\n\\n\\n\\n\\n\\nRequst A call for You:\\n\\nExplore Our Fleet\\n\\nVehicles Tailored for Your Moving Needs\\n\\nIcon\\n\\nSmall Truck\\n\\nWith 2 Mover\\n\\nFrom $130/hr\\n\\n4.5 ton 20 cubic Our Small Truck can manage a student apartment, small office .\\n\\nIcon\\n\\nMedium Truck\\n\\nWith 2 Mover\\n\\nFrom $145 p/hr\\n\\n6 ton 30-35 cubic\\n\\nOur Medium trucks can manage 2-3 bedroom with single lounge outdoor boxes and miscellaneous.\\n\\nIcon\\n\\nLarge Truck\\n\\nWith 2 Mover\\n\\nFrom $155 p/hr\\n\\n8 ton 40 cubic Our Large trucks can handle 3-4 bedrooms with double lounge outdoor boxes and miscellaneous.\\n\\nIcon\\n\\nX-Large Truck\\n\\nWith 2 Mover\\n\\nFrom $165 p/hr\\n\\n4.5 ton 20 cubic (10 ton or 50 cubic meter) Our X-Large trucks can handle 3-4 bedrooms double lounge outdoor miscellaneous items.\\n\\n\\n\\nOUR SERVICE'),\n",
       " Document(id='0893ed1f-8472-42cd-915c-45f9d83e3e9f', metadata={'source': 'https://victoriaonmove.com.au/index.html'}, page_content='Icon\\n\\nX-Large Truck\\n\\nWith 2 Mover\\n\\nFrom $165 p/hr\\n\\n4.5 ton 20 cubic (10 ton or 50 cubic meter) Our X-Large trucks can handle 3-4 bedrooms double lounge outdoor miscellaneous items.\\n\\n\\n\\nOUR SERVICE\\n\\nWE OFFER QUICK & POWERFUL LOGISTICS SOLUTION\\n\\nFURNITURE REMOVALS:\\n\\nWe are the furniture removals specialists in Victoria. Our Teams are experienced and comes with Furniture moving equipments like- Trolleys. Blankets, Loading Ramps.\\n\\nINSURANCE:\\n\\nVictoria On Move Pvt Ltd. look after your goods arrive safely at your destination. We have Transit and Public liability insurance. Transit insurance covers loading and unloading from vehicle , and Road accident cover.\\n\\n1 BED HOME:\\n\\n1 Bed, Mattress, Tall Boy, Bedside, Refrigerator, Washing Machine, Some Boxes.\\n\\n2 BED HOME:\\n\\n2 Beds, Mattress, Tall Boy, Bedside, Refrigerator, Washing Machine,Dresser, Barbeque, Some Boxes, Loose stuff.\\n\\nBig HOME:')]"
      ]
     },
     "execution_count": 71,
     "metadata": {},
     "output_type": "execute_result"
    }
   ],
   "source": [
    "retrieved_docs"
   ]
  },
  {
   "cell_type": "code",
   "execution_count": 56,
   "metadata": {},
   "outputs": [],
   "source": [
    "llm = ChatMistralAI(\n",
    "model=\"mistral-small-latest\",\n",
    "temperature=0.4,\n",
    "max_tokens=500\n",
    ")"
   ]
  },
  {
   "cell_type": "code",
   "execution_count": 57,
   "metadata": {},
   "outputs": [],
   "source": [
    "from langchain.chains import create_retrieval_chain\n",
    "from langchain.chains.combine_documents import create_stuff_documents_chain\n",
    "from langchain_core.prompts import ChatPromptTemplate\n",
    "\n",
    "system_prompt=(\n",
    "    \"\"\"\n",
    "    You are an assistant for  question-answering tasks.\n",
    "    Use the following pieces of retrieved context to answer the question.\n",
    "    If you don't know the answer, say that you don't know.\n",
    "    Use 3 sentences maximum and keep answer concise.\n",
    "    \\n\\n\n",
    "    {context}\n",
    "    \"\"\"\n",
    ")\n",
    "\n",
    "prompt = ChatPromptTemplate.from_messages(\n",
    "    [\n",
    "        (\"system\",system_prompt),\n",
    "        (\"human\",\"{input}\")\n",
    "    ]\n",
    ")"
   ]
  },
  {
   "cell_type": "code",
   "execution_count": 58,
   "metadata": {},
   "outputs": [],
   "source": [
    "question_answer_chain=create_stuff_documents_chain(llm,prompt)\n",
    "rag_chain=create_retrieval_chain(retriever,question_answer_chain)"
   ]
  },
  {
   "cell_type": "code",
   "execution_count": 59,
   "metadata": {},
   "outputs": [
    {
     "name": "stdout",
     "output_type": "stream",
     "text": [
      "The services offered include 24/7 reception, free high-speed Wi-Fi, laundry, power backup, food and beverages, and buffet facilities. They also provide moving and packing solutions with various truck sizes tailored to different moving needs.\n"
     ]
    }
   ],
   "source": [
    "response=rag_chain.invoke({\"input\":\"What kind of services do they offer?\"})\n",
    "print(response[\"answer\"])"
   ]
  },
  {
   "cell_type": "code",
   "execution_count": null,
   "metadata": {},
   "outputs": [],
   "source": []
  }
 ],
 "metadata": {
  "kernelspec": {
   "display_name": "Python 3",
   "language": "python",
   "name": "python3"
  },
  "language_info": {
   "codemirror_mode": {
    "name": "ipython",
    "version": 3
   },
   "file_extension": ".py",
   "mimetype": "text/x-python",
   "name": "python",
   "nbconvert_exporter": "python",
   "pygments_lexer": "ipython3",
   "version": "3.10.16"
  }
 },
 "nbformat": 4,
 "nbformat_minor": 2
}
